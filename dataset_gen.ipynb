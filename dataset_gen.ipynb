{
  "nbformat": 4,
  "nbformat_minor": 0,
  "metadata": {
    "colab": {
      "provenance": [],
      "include_colab_link": true
    },
    "kernelspec": {
      "name": "python3",
      "display_name": "Python 3"
    },
    "language_info": {
      "name": "python"
    }
  },
  "cells": [
    {
      "cell_type": "markdown",
      "metadata": {
        "id": "view-in-github",
        "colab_type": "text"
      },
      "source": [
        "<a href=\"https://colab.research.google.com/github/panchaltanvi/Hackathon_mind-coders/blob/main/dataset_gen.ipynb\" target=\"_parent\"><img src=\"https://colab.research.google.com/assets/colab-badge.svg\" alt=\"Open In Colab\"/></a>"
      ]
    },
    {
      "cell_type": "code",
      "source": [
        "from google.colab import drive\n",
        "drive.mount('/content/drive')"
      ],
      "metadata": {
        "id": "LqWN_qFsdMgP",
        "colab": {
          "base_uri": "https://localhost:8080/"
        },
        "outputId": "474f5fba-d1a2-4fc6-d346-6b1e848cb1b0"
      },
      "execution_count": null,
      "outputs": [
        {
          "output_type": "stream",
          "name": "stdout",
          "text": [
            "Drive already mounted at /content/drive; to attempt to forcibly remount, call drive.mount(\"/content/drive\", force_remount=True).\n"
          ]
        }
      ]
    },
    {
      "cell_type": "code",
      "source": [
        "import os\n",
        "from PIL import Image, ImageFilter\n",
        "from sklearn.model_selection import train_test_split\n",
        "from shutil import copyfile, rmtree\n",
        "\n",
        "\n",
        "src_dir = \"/content/drive/MyDrive/College/Minor/LY_Deep_learning_2023/DL_project/Dataset_vessel_images/Vertical_pressure_vessels\"\n",
        "fin_dir = \"/content/drive/MyDrive/College/Minor/LY_Deep_learning_2023/DL_project/Dataset_vessel_images/Dataset\"\n",
        "\n",
        "file_List = os.listdir(src_dir)\n",
        "\n",
        "for img in file_List:\n",
        "    file_path = os.path.join(src_dir, img)\n",
        "    if os.path.isfile(file_path):\n",
        "        \"\"\"if img.lower().endswith((\".jpeg\", \".jpg\")):\n",
        "            continue\"\"\"\n",
        "        im = Image.open(file_path)\n",
        "        rgb_im = im.convert('RGB')\n",
        "        img_resized = rgb_im.resize((256, 256),Image.ANTIALIAS).filter(ImageFilter.DETAIL)\n",
        "        orgnl_ext = os.path.splitext(img)[1].lower()\n",
        "        conv_img = file_path.replace(orgnl_ext, \"_conv.jpg\")\n",
        "        img_resized.save(conv_img, quality=100, subsampling=0)\n",
        "        os.remove(file_path)\n"
      ],
      "metadata": {
        "id": "Np9kaHkEeL4r",
        "colab": {
          "base_uri": "https://localhost:8080/"
        },
        "outputId": "69e2619b-032a-4633-a284-95c8c827720a"
      },
      "execution_count": null,
      "outputs": [
        {
          "output_type": "stream",
          "name": "stderr",
          "text": [
            "<ipython-input-12-825b4e8ec246>:19: DeprecationWarning: ANTIALIAS is deprecated and will be removed in Pillow 10 (2023-07-01). Use LANCZOS or Resampling.LANCZOS instead.\n",
            "  img_resized = rgb_im.resize((256, 256),Image.ANTIALIAS).filter(ImageFilter.DETAIL)\n"
          ]
        }
      ]
    },
    {
      "cell_type": "code",
      "source": [
        "train_set = os.path.join(fin_dir, \"train/Vertical_Pressure_Vessel\")\n",
        "test_set = os.path.join(fin_dir, \"test/Vertical_Pressure_Vessel\")\n",
        "\n",
        "for marker in [train_set, test_set]:\n",
        "    if os.path.exists(marker):\n",
        "        rmtree(marker)\n",
        "\n",
        "os.makedirs(train_set, exist_ok=True)\n",
        "os.makedirs(test_set, exist_ok=True)\n",
        "\n",
        "fileList = [filename for filename in os.listdir(src_dir) if filename.lower().endswith((\".jpeg\", \".jpg\"))]\n",
        "\n",
        "train_files, test_files = train_test_split(fileList, test_size=0.1, random_state=42)\n",
        "\n",
        "for filename in train_files:\n",
        "    src_path = os.path.join(src_dir, filename)\n",
        "    dst_path = os.path.join(train_set, filename)\n",
        "    copyfile(src_path, dst_path)\n",
        "\n",
        "for filename in test_files:\n",
        "    src_path = os.path.join(src_dir, filename)\n",
        "    dst_path = os.path.join(test_set, filename)\n",
        "    copyfile(src_path, dst_path)\n",
        "\n",
        "print(\"Dataset creation complete.\")"
      ],
      "metadata": {
        "id": "uGpgTPG06fFt",
        "colab": {
          "base_uri": "https://localhost:8080/"
        },
        "outputId": "45d957f0-bc12-4483-bee4-88ff0c497832"
      },
      "execution_count": null,
      "outputs": [
        {
          "output_type": "stream",
          "name": "stdout",
          "text": [
            "Dataset creation complete.\n"
          ]
        }
      ]
    },
    {
      "cell_type": "code",
      "source": [
        "import pandas as pd\n",
        "import matplotlib.pyplot as plt\n",
        "from pathlib import Path\n",
        "import imagesize\n",
        "import numpy as np\n",
        "\n",
        "root = \"/content/drive/MyDrive/College/Minor/LY_Deep_learning_2023/DL_project/Dataset_vessel_images/Horizontal_Pressure_Vessels\"\n",
        "\n",
        "# Get the Image Resolutions\n",
        "imgs = [img.name for img in Path(root).iterdir() if img.suffix.lower() in {\".jpg\", \".jpeg\"}]\n",
        "img_meta = {}\n",
        "\n",
        "for f in imgs:\n",
        "    img_path = Path(root) / f\n",
        "    width, height = imagesize.get(img_path)\n",
        "    img_meta[str(f)] = {\"Width\": width, \"Height\": height}\n",
        "# Convert it to DataFrame and compute aspect ratio\n",
        "img_meta_df = pd.DataFrame.from_dict(img_meta, orient='index').reset_index()\n",
        "img_meta_df.columns = ['FileName', 'Width', 'Height']\n",
        "img_meta_df[\"Aspect Ratio\"] = round(img_meta_df[\"Width\"] / img_meta_df[\"Height\"], 2)\n",
        "print(f'Total Number of Images in the dataset: {len(img_meta_df)}')\n",
        "img_meta_df.head()\n",
        "# Visualize Image Resolutions\n",
        "fig = plt.figure(figsize=(6,6))\n",
        "ax = fig.add_subplot(111)\n",
        "points = ax.scatter(img_meta_df.Width, img_meta_df.Height, color='blue', alpha=1, s=img_meta_df[\"Aspect Ratio\"]*100, picker=True)\n",
        "ax.set_title(\"Image Resolution\")\n",
        "ax.set_xlabel(\"Width\", size=10)\n",
        "ax.set_ylabel(\"Height\", size=10)"
      ],
      "metadata": {
        "colab": {
          "base_uri": "https://localhost:8080/",
          "height": 599
        },
        "id": "Di570K2fbUhT",
        "outputId": "70641f12-2f47-49e1-b0b2-8c2bcc1d2f87"
      },
      "execution_count": null,
      "outputs": [
        {
          "output_type": "stream",
          "name": "stdout",
          "text": [
            "Total Number of Images in the dataset: 50\n"
          ]
        },
        {
          "output_type": "execute_result",
          "data": {
            "text/plain": [
              "Text(0, 0.5, 'Height')"
            ]
          },
          "metadata": {},
          "execution_count": 8
        },
        {
          "output_type": "display_data",
          "data": {
            "text/plain": [
              "<Figure size 600x600 with 1 Axes>"
            ],
            "image/png": "[encoded data removed]"
          },
          "metadata": {}
        }
      ]
    }
  ]
}